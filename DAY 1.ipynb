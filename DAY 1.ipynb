{
 "cells": [
  {
   "cell_type": "markdown",
   "id": "ebb08edb",
   "metadata": {},
   "source": [
    "###  1) Python function to calculate factorial of a number"
   ]
  },
  {
   "cell_type": "code",
   "execution_count": 3,
   "id": "01c0cfe5",
   "metadata": {},
   "outputs": [
    {
     "name": "stdout",
     "output_type": "stream",
     "text": [
      "120\n"
     ]
    }
   ],
   "source": [
    "def factorial(n):\n",
    "    if n==0:\n",
    "        return 1\n",
    "    else:\n",
    "        return n*factorial(n-1)\n",
    "    \n",
    "n=5\n",
    "result=factorial(n)\n",
    "print(result)\n"
   ]
  },
  {
   "cell_type": "markdown",
   "id": "8ec2d7f6",
   "metadata": {},
   "source": [
    "### 2) Given a list of numbers, write a Python program to calculate the sum of all the even numbers in the list"
   ]
  },
  {
   "cell_type": "code",
   "execution_count": 14,
   "id": "1ef57c39",
   "metadata": {},
   "outputs": [
    {
     "name": "stdout",
     "output_type": "stream",
     "text": [
      "30\n"
     ]
    }
   ],
   "source": [
    "numbers = [1, 2, 3, 4, 5, 6, 7, 8, 9, 10]\n",
    "even_list=[]\n",
    "\n",
    "for i in numbers:\n",
    "    if i%2==0:\n",
    "        even_list.append(i)\n",
    "print(sum(even_list))"
   ]
  },
  {
   "cell_type": "markdown",
   "id": "f429fdeb",
   "metadata": {},
   "source": [
    "### 3) Write a Python code snippet to read a CSV file called \"data.csv\" and display the first 5 rows of the data."
   ]
  },
  {
   "cell_type": "code",
   "execution_count": 18,
   "id": "79e6c49f",
   "metadata": {},
   "outputs": [
    {
     "name": "stdout",
     "output_type": "stream",
     "text": [
      "['layer_height', 'wall_thickness', 'infill_density', 'infill_pattern', 'nozzle_temperature', 'bed_temperature', 'print_speed', 'material', 'fan_speed', 'roughness', 'tension_strenght', 'elongation']\n",
      "['0.02', '8', '90', 'grid', '220', '60', '40', 'abs', '0', '25', '18', '1.2']\n",
      "['0.02', '7', '90', 'honeycomb', '225', '65', '40', 'abs', '25', '32', '16', '1.4']\n",
      "['0.02', '1', '80', 'grid', '230', '70', '40', 'abs', '50', '40', '8', '0.8']\n",
      "['0.02', '4', '70', 'honeycomb', '240', '75', '40', 'abs', '75', '68', '10', '0.5']\n"
     ]
    }
   ],
   "source": [
    "import csv\n",
    "\n",
    "with open ('data.csv','r') as file:\n",
    "    reader=csv.reader(file)\n",
    "    \n",
    "    for row in reader:\n",
    "        print(row)\n",
    "        \n",
    "        if reader.line_num==5:\n",
    "            break"
   ]
  },
  {
   "cell_type": "markdown",
   "id": "8f71815d",
   "metadata": {},
   "source": [
    "### 4) Given a string, write a Python function to count the occurrence of each character in the string (case-insensitive) and display the result in a dictionary.\n"
   ]
  },
  {
   "cell_type": "code",
   "execution_count": 19,
   "id": "2720f0dd",
   "metadata": {},
   "outputs": [
    {
     "name": "stdout",
     "output_type": "stream",
     "text": [
      "Character counts: {'h': 1, 'e': 1, 'l': 3, 'o': 2, 'w': 1, 'r': 1, 'd': 1}\n"
     ]
    }
   ],
   "source": [
    "def count_characters(string):\n",
    "    counts = {}\n",
    "    for char in string.lower():\n",
    "        if char.isalpha():\n",
    "            counts[char] = counts.get(char, 0) + 1\n",
    "    return counts\n",
    "\n",
    "input_string = \"Hello, World!\"\n",
    "result = count_characters(input_string)\n",
    "print(\"Character counts:\", result)\n"
   ]
  },
  {
   "cell_type": "code",
   "execution_count": 21,
   "id": "6df105f0",
   "metadata": {},
   "outputs": [
    {
     "name": "stdout",
     "output_type": "stream",
     "text": [
      "{'s': 1, 'h': 2, 'u': 1, 'b': 2, 'a': 3, 'm': 2, 'd': 1, 'i': 1, 'p': 1, 'k': 2, 'l': 1, 'e': 1}\n"
     ]
    }
   ],
   "source": [
    "def character_counter(string):\n",
    "    counts={}\n",
    "    \n",
    "    for char in string.lower():\n",
    "        if char.isalpha():\n",
    "            counts[char]=counts.get(char,0)+1\n",
    "    return counts\n",
    "    \n",
    "input_string='Shubham Dipak Kamble'\n",
    "result=character_counter(input_string)\n",
    "print(result)\n",
    "        "
   ]
  },
  {
   "cell_type": "code",
   "execution_count": 22,
   "id": "9e5a2a57",
   "metadata": {},
   "outputs": [
    {
     "name": "stdout",
     "output_type": "stream",
     "text": [
      "{'s': 1, 'h': 2, 'u': 1, 'b': 2, 'a': 3, 'm': 2, 'd': 1, 'i': 1, 'p': 1, 'k': 2, 'l': 1, 'e': 1}\n"
     ]
    }
   ],
   "source": [
    "def count_character(string):\n",
    "    counts={}\n",
    "    \n",
    "    for char in string.lower():\n",
    "        if char.isalpha():\n",
    "            counts[char]=counts.get(char,0)+1\n",
    "    return counts\n",
    "\n",
    "inputs='Shubham Dipak Kamble'\n",
    "result=count_character(inputs)\n",
    "print(result)\n",
    "            "
   ]
  },
  {
   "cell_type": "markdown",
   "id": "fe793bc8",
   "metadata": {},
   "source": [
    "### 5) Write a Python program to generate the Fibonacci sequence up to a given number of terms."
   ]
  },
  {
   "cell_type": "code",
   "execution_count": 23,
   "id": "bff7eaa9",
   "metadata": {},
   "outputs": [
    {
     "name": "stdout",
     "output_type": "stream",
     "text": [
      "Fibonacci sequence: [0, 1, 1, 2, 3, 5, 8, 13, 21, 34]\n"
     ]
    }
   ],
   "source": [
    "def generate_fibonacci(n):\n",
    "    sequence = []\n",
    "    if n >= 1:\n",
    "        sequence.append(0)\n",
    "    if n >= 2:\n",
    "        sequence.append(1)\n",
    "    for i in range(2, n):\n",
    "        sequence.append(sequence[i-1] + sequence[i-2])\n",
    "    return sequence\n",
    "\n",
    "num_terms = 10\n",
    "fibonacci_sequence = generate_fibonacci(num_terms)\n",
    "print(\"Fibonacci sequence:\", fibonacci_sequence)\n"
   ]
  },
  {
   "cell_type": "code",
   "execution_count": null,
   "id": "dce102c7",
   "metadata": {},
   "outputs": [],
   "source": [
    "\n"
   ]
  },
  {
   "cell_type": "code",
   "execution_count": null,
   "id": "f4aeedd4",
   "metadata": {},
   "outputs": [],
   "source": []
  }
 ],
 "metadata": {
  "kernelspec": {
   "display_name": "Python 3 (ipykernel)",
   "language": "python",
   "name": "python3"
  },
  "language_info": {
   "codemirror_mode": {
    "name": "ipython",
    "version": 3
   },
   "file_extension": ".py",
   "mimetype": "text/x-python",
   "name": "python",
   "nbconvert_exporter": "python",
   "pygments_lexer": "ipython3",
   "version": "3.9.7"
  }
 },
 "nbformat": 4,
 "nbformat_minor": 5
}
